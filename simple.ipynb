{
 "cells": [
  {
   "cell_type": "code",
   "execution_count": 2,
   "metadata": {},
   "outputs": [],
   "source": [
    "from langchain_openai import ChatOpenAI\n",
    "import os\n",
    "from dotenv import load_dotenv\n",
    "\n",
    "# Load API Key\n",
    "load_dotenv()\n",
    "api_key = os.getenv(\"OPENAI_API_KEY\")\n",
    "\n",
    "# Initialize the language model\n",
    "llm = ChatOpenAI(openai_api_key=api_key, max_tokens=100, temperature=0.7)"
   ]
  },
  {
   "cell_type": "code",
   "execution_count": 3,
   "metadata": {},
   "outputs": [],
   "source": [
    "from langchain_core.prompts import ChatPromptTemplate\n",
    "\n",
    "prompt = ChatPromptTemplate.from_messages([\n",
    "    (\"system\", \"You are a CPTSD Therapist with 20 plus years experience in healing people from CPTSD.\"),\n",
    "    (\"user\", \"{input}\"),\n",
    "    \n",
    "])\n",
    "\n",
    "chain = prompt | llm\n"
   ]
  },
  {
   "cell_type": "code",
   "execution_count": 4,
   "metadata": {},
   "outputs": [],
   "source": [
    "from langchain_core.output_parsers import StrOutputParser\n",
    "\n",
    "output_parser = StrOutputParser()\n",
    "chain = chain | output_parser\n"
   ]
  },
  {
   "cell_type": "code",
   "execution_count": 12,
   "metadata": {},
   "outputs": [
    {
     "name": "stdout",
     "output_type": "stream",
     "text": [
      "The cost of Funghini pizza on public holidays is not mentioned in the provided text.\n"
     ]
    }
   ],
   "source": [
    "# import pdfplumber\n",
    "\n",
    "# # Function to extract text from PDF\n",
    "# def extract_text_from_pdf(pdf_path):\n",
    "#     text = \"\"\n",
    "#     with pdfplumber.open(pdf_path) as pdf:\n",
    "#         for page in pdf.pages:\n",
    "#             text += page.extract_text() + \"\\n\"\n",
    "#     return text\n",
    "\n",
    "# # Extract text from the PDF\n",
    "# pdf_text = extract_text_from_pdf(\"menu.pdf\")\n",
    "\n",
    "# # Invoke the chain with your query\n",
    "# response = chain.invoke({\"input\": \"How much Funghini pizza cost on public holidays\" + pdf_text})\n",
    "\n",
    "# # Print the response\n",
    "# print(response)\n",
    "# print(pdf_text)"
   ]
  },
  {
   "cell_type": "code",
   "execution_count": 6,
   "metadata": {},
   "outputs": [],
   "source": [
    "# def extract_text_from_pdf(pdf_path):\n",
    "#     text = \"\"\n",
    "#     pdf = pdfplumber.open(pdf_path)\n",
    "#     for page in pdf.pages:\n",
    "#         text += page.extract_text() + \"\\n\"\n",
    "#     pdf.close()\n",
    "#     return text\n",
    "\n",
    "# # Extract text from the PDF\n",
    "# pdf_text = extract_text_from_pdf(\"menu.pdf\")\n",
    "\n",
    "# response = chain.invoke({\"input\": \"write a quote about pizza from the following text\" + pdf_text})\n",
    "\n",
    "# # Print the response\n",
    "# print(response)"
   ]
  },
  {
   "cell_type": "code",
   "execution_count": 15,
   "metadata": {},
   "outputs": [
    {
     "name": "stdout",
     "output_type": "stream",
     "text": [
      "\"From surviving to thriving, embrace self-compassion, confront the past, and find hope in the journey of healing.\"\n"
     ]
    }
   ],
   "source": [
    "import pdfplumber\n",
    "\n",
    "# Function to extract text from PDF\n",
    "def extract_text_from_pdf(pdf_path):\n",
    "    text = \"\"\n",
    "    with pdfplumber.open(pdf_path) as pdf:\n",
    "        for page in pdf.pages:\n",
    "            text += page.extract_text() + \"\\n\"\n",
    "    return text\n",
    "\n",
    "# Extract text from the PDF\n",
    "pdf_text = extract_text_from_pdf(\"cptsd.pdf\")\n",
    "\n",
    "# Invoke the chain with your query\n",
    "response = chain.invoke({\"input\": \"write a 20 words inspirational quote for a person suffering from cptsd that would heal them, from the following text\" + pdf_text})\n",
    "\n",
    "# Print the response\n",
    "print(response)\n",
    "#print(pdf_text)"
   ]
  },
  {
   "cell_type": "code",
   "execution_count": null,
   "metadata": {},
   "outputs": [],
   "source": []
  }
 ],
 "metadata": {
  "kernelspec": {
   "display_name": "env",
   "language": "python",
   "name": "python3"
  },
  "language_info": {
   "codemirror_mode": {
    "name": "ipython",
    "version": 3
   },
   "file_extension": ".py",
   "mimetype": "text/x-python",
   "name": "python",
   "nbconvert_exporter": "python",
   "pygments_lexer": "ipython3",
   "version": "3.11.7"
  }
 },
 "nbformat": 4,
 "nbformat_minor": 2
}
