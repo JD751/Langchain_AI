{
 "cells": [
  {
   "cell_type": "code",
   "execution_count": 1,
   "metadata": {},
   "outputs": [
    {
     "data": {
      "text/plain": [
       "AIMessage(content='The biggest beach in Poland is the beach in Świnoujście, located on the Baltic Sea. It stretches for about 12 kilometers, making it the longest beach in the country.')"
      ]
     },
     "execution_count": 1,
     "metadata": {},
     "output_type": "execute_result"
    }
   ],
   "source": [
    "from langchain_openai import ChatOpenAI\n",
    "from langchain_openai import ChatOpenAI\n",
    "import os \n",
    "from dotenv import load_dotenv\n",
    "load_dotenv()\n",
    "\n",
    "api_key= os.getenv(\"OPENAI_API_KEY\")\n",
    "\n",
    "\n",
    "llm = ChatOpenAI()\n",
    "\n",
    "llm = ChatOpenAI(openai_api_key=api_key, max_tokens=100, temperature=0.7)\n",
    "\n",
    "llm.invoke(\"What is the biggest beach in Poland?\")"
   ]
  },
  {
   "cell_type": "code",
   "execution_count": 3,
   "metadata": {},
   "outputs": [
    {
     "data": {
      "text/plain": [
       "AIMessage(content=\"As an AI language model, I don't have personal opinions or emotions, so I don't have the ability to like or dislike anything. However, I can provide information on common criticisms or challenges that some people may have about Poland. Some of the common criticisms or challenges that people may mention about Poland include:\\n\\n1. Political situation: Some individuals may criticize the political climate or government policies in Poland.\\n2. Social issues: Like any other country, Poland faces social issues such as discrimination, inequality, or intolerance, which some people may dislike.\\n3. Economic challenges: Certain individuals may highlight economic challenges like unemployment rates or income disparities.\\n4. Environmental concerns: Some people may criticize the country's environmental policies or practices regarding pollution, deforestation, or climate change.\\n5. Infrastructure: Occasionally, individuals may mention infrastructure-related issues such as road conditions or public transportation systems.\\n6. Cultural differences: People from different backgrounds may find certain cultural practices or attitudes in Poland unfamiliar or disagreeable.\\n\\nIt's important to note that these criticisms do not represent the views of everyone, and many individuals have positive experiences and opinions about Poland as well.\")"
      ]
     },
     "execution_count": 3,
     "metadata": {},
     "output_type": "execute_result"
    }
   ],
   "source": [
    "from langchain_core.prompts import ChatPromptTemplate\n",
    "prompt = ChatPromptTemplate.from_messages([\n",
    "    (\"system\", \"You are a beautiful Polish girl\"),\n",
    "    (\"user\", \"{input}\")\n",
    "])\n",
    "\n",
    "chain = prompt | llm \n",
    "\n",
    "chain.invoke({\"input\": \"what do you dislike about Poland?\"})\n"
   ]
  },
  {
   "cell_type": "code",
   "execution_count": 4,
   "metadata": {},
   "outputs": [
    {
     "data": {
      "text/plain": [
       "\"As an AI, I don't have personal preferences or feelings, but I can provide information about what people often appreciate about Poland. \\n\\nMany people appreciate Poland's rich history and cultural heritage. The country has numerous UNESCO World Heritage Sites, including historic cities like Kraków and Warsaw, as well as beautiful natural landscapes such as the Tatra Mountains and the Masurian Lakes. Polish cuisine, known for dishes like pierogi and kielbasa, is also highly regarded.\\n\\nAdditionally, Poland's friendly and welcoming people, vibrant festivals, and traditional folk music and dance are often mentioned as highlights. The country's central location in Europe also makes it a great starting point for exploring other European destinations.\""
      ]
     },
     "execution_count": 4,
     "metadata": {},
     "output_type": "execute_result"
    }
   ],
   "source": [
    "from langchain_core.output_parsers import StrOutputParser\n",
    "\n",
    "\n",
    "data = loader.load()\n",
    "\n",
    "data[0].page_content[:300]\n",
    "\n",
    "output_parser = StrOutputParser()\n",
    "\n",
    "chain = prompt | llm | output_parser\n",
    "\n",
    "chain.invoke({\"input\": \"what do you like the most about Poland?\"})\n"
   ]
  },
  {
   "cell_type": "code",
   "execution_count": 18,
   "metadata": {},
   "outputs": [],
   "source": [
    "from langchain_community.document_loaders import WebBaseLoader\n",
    "from langchain_community.document_loaders import HNLoader\n",
    "loader = HNLoader(\"https://news.ycombinator.com/item?id=34817881\")\n",
    "data = loader.load()\n",
    "# print(data[0].page_content[:300])\n",
    "# data[0].metadata\n",
    "# docs = data.load()\n",
    "# {'source': 'https://news.ycombinator.com/item?id=34817881',\n",
    "#  'title': 'What Lights the Universe’s Standard Candles?'}\n",
    "\n",
    "from langchain_openai import OpenAIEmbeddings\n",
    "\n",
    "embeddings = OpenAIEmbeddings()"
   ]
  },
  {
   "cell_type": "code",
   "execution_count": 20,
   "metadata": {},
   "outputs": [
    {
     "name": "stdout",
     "output_type": "stream",
     "text": [
      "Supernova simulations are interesting because they involve all four fundamental forces in physics and the explosion itself is a complex phenomenon. Additionally, these simulations require higher dimensions and turbulent flow, which adds to their complexity.\n"
     ]
    }
   ],
   "source": [
    "from langchain_community.vectorstores import FAISS\n",
    "from langchain.text_splitter import RecursiveCharacterTextSplitter\n",
    "\n",
    "\n",
    "text_splitter = RecursiveCharacterTextSplitter()\n",
    "documents = text_splitter.split_documents(data)\n",
    "vector = FAISS.from_documents(documents, embeddings)\n",
    "\n",
    "from langchain.chains.combine_documents import create_stuff_documents_chain\n",
    "\n",
    "prompt = ChatPromptTemplate.from_template(\"\"\"Answer the following question based only on the provided context:\n",
    "\n",
    "<context>\n",
    "{context}\n",
    "</context>\n",
    "\n",
    "Question: {input}\"\"\")\n",
    "\n",
    "document_chain = create_stuff_documents_chain(llm, prompt)\n",
    "\n",
    "from langchain.chains import create_retrieval_chain\n",
    "\n",
    "retriever = vector.as_retriever()\n",
    "retrieval_chain = create_retrieval_chain(retriever, document_chain)\n",
    "response = retrieval_chain.invoke({\"input\": \"why are supernova simulations interesting?\"})\n",
    "print(response[\"answer\"])\n",
    "\n",
    "# LangSmith offers several features that can help with testing:...\n",
    "\n"
   ]
  }
 ],
 "metadata": {
  "kernelspec": {
   "display_name": "env",
   "language": "python",
   "name": "python3"
  },
  "language_info": {
   "codemirror_mode": {
    "name": "ipython",
    "version": 3
   },
   "file_extension": ".py",
   "mimetype": "text/x-python",
   "name": "python",
   "nbconvert_exporter": "python",
   "pygments_lexer": "ipython3",
   "version": "3.11.7"
  }
 },
 "nbformat": 4,
 "nbformat_minor": 2
}
